{
  "nbformat": 4,
  "nbformat_minor": 0,
  "metadata": {
    "colab": {
      "provenance": []
    },
    "kernelspec": {
      "name": "python3",
      "display_name": "Python 3"
    },
    "language_info": {
      "name": "python"
    }
  },
  "cells": [
    {
      "cell_type": "markdown",
      "source": [
        "**Data Types and Structures**"
      ],
      "metadata": {
        "id": "xSIvdjfG-SDG"
      }
    },
    {
      "cell_type": "markdown",
      "source": [
        "**1. What are data structures, and why are they important?**"
      ],
      "metadata": {
        "id": "twa0w49t-j2R"
      }
    },
    {
      "cell_type": "markdown",
      "source": [
        "- Data structures are a way of organizing, managing, and storing data in a computer so that it can be accessed and modified efficiently. Think of them as the \"blueprints\" for handling data in a logical and systematic way.\n",
        "\n",
        "- **Common Types of Data Structures:**\n",
        "\n",
        "- **Arrays**: Store a fixed-size sequence of elements of the same type.\n",
        "\n",
        "- **Linked Lists**: Composed of nodes, where each node contains data and a reference to the next node.\n",
        "\n",
        "- **Stacks**: Follow the Last In, First Out (LIFO) principle (like stacking plates).\n",
        "\n",
        "- **Queues**: Follow the First In, First Out (FIFO) principle (like standing in a line).\n",
        "\n",
        "- **Hash Tables**: Use key-value pairs for quick data retrieval.\n",
        "\n",
        "- **Trees**: Represent hierarchical data (like file systems).\n",
        "\n",
        "- **Graphs**: Represent relationships between entities, such as in a network.\n",
        "\n",
        "\n",
        "- **Data structures are important because they:**\n",
        "\n",
        "- **Enhance Efficiency**: They make data storage, retrieval, and processing faster and more efficient.\n",
        "\n",
        "- **Solve Complex Problems**: Many algorithms rely on data structures to handle large and complex data sets.\n",
        "\n",
        "- **Optimize Resources**: They help manage memory and processing power effectively.\n",
        "\n",
        "- **Form the Backbone of Computing**: They are foundational in computer programming, database design, artificial intelligence, and more."
      ],
      "metadata": {
        "id": "-rsZkyuw-vaB"
      }
    },
    {
      "cell_type": "markdown",
      "source": [
        "**2. Explain the difference between mutable and immutable data types with examples**"
      ],
      "metadata": {
        "id": "F0hwBDxuDsV-"
      }
    },
    {
      "cell_type": "markdown",
      "source": [
        "-** Mutable Data Types**\n",
        "Mutable data types can be modified after their creation. You can add, remove, or alter elements within these data types without changing their identity.\n",
        "\n",
        "- Examples in Python include: list, dict, set.\n",
        "\n",
        "- Example\n",
        " # Mutable: List\n",
        "my_list = [1, 2, 3]\n",
        "\n",
        "print(\"Before modification:\", my_list)  # Output: [1, 2, 3]\n",
        "\n",
        "my_list[0] = 10  # Modifying the first element\n",
        "\n",
        "my_list.append(4)  # Adding a new element\n",
        "\n",
        "print(\"After modification:\", my_list)  # Output: [10, 2, 3, 4]\n",
        "\n",
        "-** Immutable Data Types**\n",
        "- Immutable data types cannot be changed after their creation. Any operation that seems to modify them will actually result in the creation of a new object.\n",
        "\n",
        "- Examples in Python include: int, float, tuple, str.\n",
        "\n",
        "- Example\n",
        " # Immutable: String\n",
        "\n",
        "my_string = \"Hello\"\n",
        "\n",
        "print(\"Before modification:\", my_string)  # Output: Hello\n",
        "\n",
        "new_string = my_string + \" World\"  # Concatenation creates a new string\n",
        "\n",
        "print(\"After modification:\", new_string)  # Output: Hello World\n",
        "\n",
        "print(\"Original string remains:\", my_string)  # Output: Hello\n",
        "\n"
      ],
      "metadata": {
        "id": "Bl8Z6ExWDwN6"
      }
    },
    {
      "cell_type": "markdown",
      "source": [
        "**3. What are the main differences between lists and tuples in Python?**"
      ],
      "metadata": {
        "id": "2LDXvt4tH-oq"
      }
    },
    {
      "cell_type": "markdown",
      "source": [
        "- Lists and tuples are two of the most commonly used data structures in Python. While they share similarities, such as being sequences that can store multiple items, there are key differences:\n",
        "\n",
        "**1. Mutability:**\n",
        "\n",
        "- Lists are **mutable**, meaning their elements can be changed after creation (e.g., adding, removing, or modifying elements).\n",
        "\n",
        "- Tuples are **immutable**, meaning their elements cannot be changed once the tuple is created.\n",
        "\n",
        "**2. Syntax:**\n",
        "\n",
        "- Lists are defined using square brackets: my_list = [1, 2, 3]\n",
        "\n",
        "- Tuples are defined using parentheses: my_tuple = (1, 2, 3)\n",
        "\n",
        "**3. Performance:**\n",
        "\n",
        "- Tuples are generally faster than lists, as their immutability makes them more efficient in terms of memory and processing.\n",
        "\n",
        "- Lists can be slower due to the overhead of supporting mutability.\n",
        "\n",
        "**4. Use Cases:**\n",
        "\n",
        "- Use lists when you need a collection that may change over time (e.g., dynamically modifying elements).\n",
        "\n",
        "- Use tuples when you need a fixed collection of elements (e.g., coordinates, configuration values, or as keys in dictionaries).\n",
        "\n",
        "**5. Functions and Methods:**\n",
        "\n",
        "- Lists have a larger set of built-in methods (e.g., .append(), .extend(), .remove()), which support various modifications.\n",
        "\n",
        "- Tuples have fewer methods, primarily related to counting or finding elements (e.g., .count() and .index()).\n",
        "\n",
        "**6. Hashability:**\n",
        "\n",
        "- Tuples are hashable (if they contain only hashable elements), which allows them to be used as dictionary keys or in sets.\n",
        "\n",
        "- Lists are not hashable and cannot be used as dictionary keys."
      ],
      "metadata": {
        "id": "Tfbjrk4aIKyb"
      }
    },
    {
      "cell_type": "markdown",
      "source": [
        "**4. Describe how dictionaries store data**"
      ],
      "metadata": {
        "id": "RSsS-GDWLJbJ"
      }
    },
    {
      "cell_type": "markdown",
      "source": [
        "- Dictionaries in computing are data structures that store data as key-value pairs, functioning like a real-world dictionary where a \"word\" (key) maps to its \"definition\" (value).\n",
        "\n",
        "-** Here's a simplified explanation of how they store data :**\n",
        "\n",
        "**Hash Tables:** Most programming languages implement dictionaries using a hash table. A hash table uses a hash function to transform each key into a unique number, called a hash code, which determines where the data should be stored in memory.\n",
        "\n",
        "**Key-Value Mapping:** The dictionary stores the key and its corresponding value in a specific location (or bucket) within an array, based on the hash code. This allows fast retrieval because the hash code directly points to where the value is stored.\n",
        "\n",
        "**Collision Handling:** Sometimes, two keys might produce the same hash code (a collision). When this happens, the dictionary uses a strategy like chaining (storing multiple items in a linked list at the same bucket) or open addressing (finding another empty bucket).\n",
        "\n",
        "**Dynamic Resizing: **As more items are added, the dictionary's storage expands to maintain efficiency, redistributing the keys and values to a larger array"
      ],
      "metadata": {
        "id": "1Y385Zz2Lb4o"
      }
    },
    {
      "cell_type": "markdown",
      "source": [
        "**5. Why might you use a set instead of a list in Python?**"
      ],
      "metadata": {
        "id": "faaNqY0WMSt1"
      }
    },
    {
      "cell_type": "markdown",
      "source": [
        "- In Python, sets and lists serve different purposes, so choosing one over the other depends on your needs. Here’s why you might use a set instead of a list:\n",
        "\n",
        "- **Uniqueness:** Sets automatically eliminate duplicates. If you need a collection of unique elements, sets are ideal.\n",
        "\n",
        "- Example: {1, 2, 2, 3} becomes {1, 2, 3}.\n",
        "\n",
        "- **Fast Membership Testing: **Sets are optimized for checking whether an element exists using operations like x in set. This is much faster than with lists, especially for large datasets.\n",
        "\n",
        "-** Set Operations:** Sets provide built-in methods for mathematical operations like union (set1 | set2), intersection (set1 & set2), and difference (set1 - set2). Lists don't support these directly.\n",
        "\n",
        "-** Order Doesn't Matter:** Unlike lists, sets are unordered. If you don’t care about maintaining the order of elements, sets are a good choice."
      ],
      "metadata": {
        "id": "gnzlqFhrNOhZ"
      }
    },
    {
      "cell_type": "markdown",
      "source": [
        "**6. What is a string in Python, and how is it different from a list?**"
      ],
      "metadata": {
        "id": "FViQkhnTP0Xk"
      }
    },
    {
      "cell_type": "markdown",
      "source": [
        "- A string in Python is a sequence of characters enclosed within single quotes ('), double quotes (\"), or triple quotes (''' or \"\"\"). Strings are immutable, meaning once they are created, their content cannot be changed.\n",
        "\n",
        "A list in Python, on the other hand, is a collection of items (which can be of different types) enclosed within square brackets ([]). Lists are mutable, meaning you can modify their content after creation\n",
        "\n",
        "\n",
        "- **Here are some key differences between strings and lists:**\n",
        "\n",
        "- **Strings**\n",
        "\n",
        "\n",
        "*  Immutable: Cannot be changed after creation.\n",
        "*  Homogeneous: Consist of characters only.\n",
        "*  Access: Accessed using indices, similar to lists.\n",
        "*  Methods: Have specific methods like .upper(), .lower(), .replace(), etc.\n",
        "\n",
        "- **Lists**\n",
        "\n",
        "\n",
        "*  Mutable: Can be changed after creation.\n",
        "*  Heterogeneous: Can contain items of different types (e.g., integers,  \n",
        "   strings, other lists).\n",
        "*  Access: Accessed using indices.\n",
        "*  Methods: Have methods like .append(), .remove(), .sort(), etc.\n",
        "\n",
        "\n",
        "**Example**:\n",
        "\n",
        "# String example\n",
        "my_string = \"Hello, World!\"\n",
        "\n",
        "print (my_string[0]) # output: H\n",
        "# my_string[0] = 'h'  # This will raise an error because strings are immutable.\n",
        "# List Example\n",
        "\n",
        "my_list = [1, \"Hello\", 3.14, [4, 5]]\n",
        "\n",
        "print(my_list[1])  # Output: Hello\n",
        "\n",
        "my_list[1] = \"Hi\"  # This is allowed because lists are mutable\n",
        "\n",
        "print(my_list)  # Output: [1, 'Hi', 3.14, [4, 5]]\n"
      ],
      "metadata": {
        "id": "gLkLVH0VQX2T"
      }
    },
    {
      "cell_type": "markdown",
      "source": [
        "**7. How do tuples ensure data integrity in Python?**"
      ],
      "metadata": {
        "id": "7DgKRLdCJpnt"
      }
    },
    {
      "cell_type": "markdown",
      "source": [
        "- Tuples in Python are a powerful tool for ensuring data integrity due to their immutable nature. Here’s how they contribute to maintaining data integrity:\n",
        "\n",
        "   1. Immutability: Once a tuple is created, its elements cannot be changed, added, or removed. This immutability ensures that the data remains consistent and unaltered throughout the program, preventing accidental modifications.\n",
        "   \n",
        "   my_tuple = (1, 2, 3)\n",
        "   # Trying to modify the tuple will raise an error\n",
        "\n",
        "   # my_tuple[0] = 10  # This will raise a TypeError\n",
        "   \n",
        "   2. Hashability: Because tuples are immutable, they can be used as keys in dictionaries and elements in sets. This property ensures that the data used as keys remains constant, maintaining the integrity of the dictionary or set.\n",
        "\n",
        "   my_dict = {('key1', 'key2'): 'value'}\n",
        "\n",
        "   print(my_dict[('key1', 'key2')])  # Output: value\n",
        "   \n",
        "   3. Predictable Behavior: The immutability of tuples leads to predictable behavior in functions and methods. When you pass a tuple to a function, you can be confident that the function will not alter the original data, ensuring the integrity of the data passed\n",
        "\n",
        "   def process_data(data):\n",
        "\n",
        "    # data cannot be modified\n",
        "\n",
        "    return sum(data)\n",
        "\n",
        " my_tuple = (1, 2, 3)\n",
        "\n",
        " result = process_data(my_tuple)\n",
        "\n",
        " print(result)  # Output: 6\n",
        "                   .            "
      ],
      "metadata": {
        "id": "EzbdSQU9M4PS"
      }
    },
    {
      "cell_type": "markdown",
      "source": [
        "**8. What is a hash table, and how does it relate to dictionaries in Python?**"
      ],
      "metadata": {
        "id": "6-fVvUxFRbD5"
      }
    },
    {
      "cell_type": "markdown",
      "source": [
        "- hash table is a data structure that efficiently maps keys to values using a process called hashing. In hashing, a special function (called a hash function) takes a key and converts it into an index, which corresponds to a location in an array where the value associated with that key is stored. Hash tables allow for quick lookups, insertions, and deletions, making them useful for applications that require fast data retrieval.\n",
        "\n",
        "In Python, the dict type is an implementation of a hash table. Here's how they are related:\n",
        "\n",
        "* Python dictionaries use hash tables under the hood to store key-value pairs.\n",
        "\n",
        "* The keys in a dictionary are hashed using Python’s built-in hash function, and the hash value determines where in memory the value is stored.\n",
        "\n",
        "* This hashing mechanism provides average O(1) time complexity for operations like accessing or updating elements.\n",
        "\n",
        "For example:\n",
        "  my_dict = {'apple': 10, 'banana': 20, 'cherry': 30}\n",
        "\n",
        "  print(my_dict['banana'])  # Retrieves the value 20 efficiently\n",
        "\n",
        "  Python dictionaries are highly optimized hash tables with additional features, such as supporting arbitrary data types for keys (as long as they are hashable) and preserving insertion order (since Python 3.7). This makes them one of the most powerful tools for managing and accessing data!"
      ],
      "metadata": {
        "id": "9_LXUEmRRp6A"
      }
    },
    {
      "cell_type": "markdown",
      "source": [
        "**9. Can lists contain different data types in Python?**"
      ],
      "metadata": {
        "id": "o_eLa1U4TO8C"
      }
    },
    {
      "cell_type": "markdown",
      "source": [
        "- Absolutely! In Python, lists are incredibly versatile and can contain elements of different data types. For example, you can have integers, strings, floats, and even other lists all within a single list. Here's a quick example to illustrate this:\n",
        "\n",
        " # Creating a list with different data types\n",
        "mixed_list = [42, \"Hello, world!\", 3.14, [1, 2, 3], True]\n",
        "\n",
        "   # Printing the list\n",
        "   print(mixed_list)\n",
        "\n",
        "   In this example, mixed_list contains an integer, a string, a float, another list, and a boolean value. Python's dynamic typing allows for this flexibility, making lists a powerful tool for various applications."
      ],
      "metadata": {
        "id": "U8PJh607ThPN"
      }
    },
    {
      "cell_type": "markdown",
      "source": [
        "**10.  Explain why strings are immutable in Python.**\n",
        "\n",
        "---\n",
        "\n"
      ],
      "metadata": {
        "id": "fNNts9TMWgSa"
      }
    },
    {
      "cell_type": "markdown",
      "source": [
        "Absolutely! Strings in Python are immutable, meaning once a string is created, it cannot be changed. Here are a few reasons why this design choice was made:\n",
        "\n",
        "1.   Efficiency and Performance\n",
        "   * **Memory Optimization**: Immutable objects can be shared and reused, which saves memory. For example, if multiple variables reference the same string, they all point to the same memory location.\n",
        "\n",
        "   * **Caching**: Python can cache and reuse immutable objects, which speeds up execution. This is particularly useful for small strings and integers.\n",
        "\n",
        "2.  Thread Safety\n",
        "   * **Concurrency:** Immutable objects are inherently thread-safe. Since their state cannot be changed, multiple threads can access them without causing data corruption or requiring synchronization mechanisms.\n",
        "\n",
        "3.  **Predictability\n",
        "   * **Consistency** : Immutable objects provide a predictable behavior. When you pass a string to a function, you can be sure that the string won't be altered, which makes debugging and reasoning about code easier.\n",
        "\n",
        "4.  Hashability\n",
        "   * **Dictionary Keys and Set Elements** : Immutable objects can be used as keys in dictionaries and elements in sets because their hash value remains constant. Mutable objects, on the other hand, could change their hash value, leading to inconsistencies.\n",
        "\n",
        "   Example:\n",
        " # Strings are immutable\n",
        "\n",
        " original_string = \"Hello\"\n",
        "\n",
        " new_string = original_string.replace(\"H\", \"J\")\n",
        "\n",
        " print(original_string)  # Output: Hello\n",
        "\n",
        " print(new_string)       # Output: Jello\n",
        "\n",
        "In this example, original_string remains unchanged, demonstrating immutability."
      ],
      "metadata": {
        "id": "Fow_DmfpWt2b"
      }
    },
    {
      "cell_type": "markdown",
      "source": [
        "**11.  What advantages do dictionaries offer over lists for certain tasks?**"
      ],
      "metadata": {
        "id": "lVuV3MioEis3"
      }
    },
    {
      "cell_type": "markdown",
      "source": [
        "- Dictionaries offer distinct advantages over lists in certain tasks due to their unique structure. Here are some key benefits:\n",
        "\n",
        " - **Fast Lookup**: Dictionaries are built on a key-value pair structure, which makes retrieving values based on their keys incredibly fast compared to searching for an item in a list.\n",
        "\n",
        " - **Data Association:** If you need to associate specific keys with their corresponding values (like a name to a phone number), dictionaries are perfect. Lists don’t have this one-to-one mapping.\n",
        "\n",
        " - **Uniqueness of Keys:** Dictionaries ensure that keys are unique, which helps in managing data where duplicates are not desired.\n",
        "\n",
        " - **Flexibility in Data Handling**: While lists handle ordered sequences, dictionaries can manage unordered data with descriptive identifiers, making the data easier to interpret.\n",
        "\n",
        "- **Efficient Updates:** Adding, modifying, or deleting items in a dictionary is faster compared to working with a list, especially for large datasets."
      ],
      "metadata": {
        "id": "e7doR5OeE37g"
      }
    },
    {
      "cell_type": "markdown",
      "source": [
        "**12.  Describe a scenario where using a tuple would be preferable over a list.**"
      ],
      "metadata": {
        "id": "BU24B8tiHRQY"
      }
    },
    {
      "cell_type": "markdown",
      "source": [
        "- A tuple is preferable over a list when immutability and efficient performance are key requirements. Here's a scenario:\n",
        "\n",
        "Imagine you're developing an application where you need to define fixed geographical coordinates (latitude and longitude) for multiple locations. Since these coordinates should never change once set, using a tuple is ideal. Tuples are immutable, meaning their elements cannot be altered after creation, which ensures the integrity of your data.\n",
        "\n",
        "Additionally, tuples are faster and consume less memory compared to lists, making them a better choice in situations where performance is crucial, especially if the dataset is large and frequently accessed."
      ],
      "metadata": {
        "id": "1_XP1OshJbYo"
      }
    },
    {
      "cell_type": "markdown",
      "source": [
        "**13.  How do sets handle duplicate values in Python?**"
      ],
      "metadata": {
        "id": "36VFkmeSJnob"
      }
    },
    {
      "cell_type": "markdown",
      "source": [
        "- In Python, sets are designed to store unique elements only. If you attempt to add duplicate values to a set, Python will automatically ensure that each value appears only once.\n",
        " For example:\n",
        "\n",
        " my_set = {1, 2, 3, 3, 4}\n",
        "\n",
        " print(my_set)\n",
        "\n",
        " The output will be:\n",
        "\n",
        " {1, 2, 3, 4}\n",
        "\n",
        "  Notice how the duplicate value 3 is removed in the process of creating the set. If you're adding elements to a set using methods like .add() or .update(), duplicates will similarly be ignored.\n",
        "\n",
        "This behavior makes sets ideal for cases where you want to avoid duplicates or perform operations like union, intersection, and difference efficiently."
      ],
      "metadata": {
        "id": "lZZRe8CnJvpE"
      }
    },
    {
      "cell_type": "markdown",
      "source": [
        "14.  How does the “in” keyword work differently for lists and dictionaries?"
      ],
      "metadata": {
        "id": "xWKchiCdMWvo"
      }
    },
    {
      "cell_type": "markdown",
      "source": [
        "- The in keyword in Python is used to check for membership, but it works slightly differently depending on whether you're dealing with a list or a dictionary:\n",
        "\n",
        "**1.** **For Lists:** When used with a list, in checks whether a given element exists in the list. If the element is present, it returns True; otherwise, it returns False.\n",
        " Example:\n",
        "\n",
        " my_list = [1, 2, 3, 4]\n",
        "\n",
        " print(3 in my_list)  # Output: True\n",
        "\n",
        " print(5 in my_list)  # Output: False\n",
        "\n",
        "**2. For Dictionaries:** When used with a dictionary, in checks whether a given key exists in the dictionary—not the values. If the key is present, it returns True; otherwise, False.\n",
        " Example:\n",
        "\n",
        " y_dict = {\"a\": 1, \"b\": 2, \"c\": 3}\n",
        "\n",
        " print(\"b\" in my_dict)  # Output: True\n",
        "\n",
        " print(2 in my_dict)    # Output: False\n",
        "\n",
        " If you need to check for values in a dictionary, you can use .values() like this:\n",
        "\n",
        " print(2 in my_dict.values())  # Output: True\n",
        "\n",
        " The distinction lies in what is being checked: elements for lists and keys for dictionaries."
      ],
      "metadata": {
        "id": "Rz0xJyaNMwU0"
      }
    },
    {
      "cell_type": "markdown",
      "source": [
        "**15. Can you modify the elements of a tuple? Explain why or why not.**"
      ],
      "metadata": {
        "id": "lh_wQrxjPg5W"
      }
    },
    {
      "cell_type": "markdown",
      "source": [
        "- No, you cannot modify the elements of a tuple in Python because tuples are immutable. Immutability means that once a tuple is created, its contents cannot be changed—this includes adding, removing, or altering its elements.\n",
        "\n",
        "This behavior is by design to ensure that tuples can be used as reliable, unchanging data structures. For example, this makes them suitable for use as keys in dictionaries, where immutability is a necessity to maintain consistent hashing.\n",
        "\n",
        "If you need a structure similar to a tuple but with modifiable elements, you can use a list, which is mutable. However, if you want to \"modify\" a tuple indirectly, you could create a new tuple that contains the desired changes. For instance:\n",
        "\n",
        "# Original tuple\n",
        "my_tuple = (1, 2, 3)\n",
        "\n",
        "# Creating a modified version\n",
        "new_tuple = my_tuple[:2] + (4,)\n",
        "\n",
        "print(new_tuple)  # Output: (1, 2, 4)\n",
        "This approach preserves the original tuple while giving you a new one with the modifications you need.\n"
      ],
      "metadata": {
        "id": "TddwpjqsPsEj"
      }
    },
    {
      "cell_type": "markdown",
      "source": [
        "**16.  What is a nested dictionary, and give an example of its use case?**"
      ],
      "metadata": {
        "id": "50tVEfT4QyBE"
      }
    },
    {
      "cell_type": "markdown",
      "source": [
        "- A nested dictionary in Python is a dictionary where the value of a key is another dictionary. This allows you to store data in a hierarchical, multi-level structure, making it useful for representing complex relationships or datasets.\n",
        "\n",
        "  **Example Use Case: Student Grades**\n",
        "\n",
        "  Imagine you want to store the grades of students in various subjects:\n",
        "\n",
        "  # Nested dictionary\n",
        "students = {\n",
        "   \n",
        "    \"Alice\": {\"Math\": 85, \"English\": 90, \"Science\": 88},\n",
        "   \n",
        "    \"Bob\": {\"Math\": 75, \"English\": 80, \"Science\": 82},\n",
        "   \n",
        "    \"Charlie\": {\"Math\": 95, \"English\": 85, \"Science\": 91}\n",
        "\n",
        "}\n",
        "\n",
        "# Accessing data\n",
        "print(students[\"Alice\"][\"Math\"])  # Output: 85\n",
        "\n",
        "# Updating data\n",
        "students[\"Bob\"][\"Math\"] = 78\n",
        "\n",
        "Use Case Explained:\n",
        "\n",
        "Keys at the first level represent student names.\n",
        "\n",
        "Nested dictionaries contain subjects as keys and grades as values.\n",
        "\n",
        "Such a structure is efficient for representing relationships or collections of data where each item has multiple attributes."
      ],
      "metadata": {
        "id": "x6o5muCmQ7Ak"
      }
    },
    {
      "cell_type": "markdown",
      "source": [],
      "metadata": {
        "id": "wACe69QzTa6E"
      }
    },
    {
      "cell_type": "markdown",
      "source": [
        "**17.  Describe the time complexity of accessing elements in a dictionary.**"
      ],
      "metadata": {
        "id": "PGXk1d2eTmH4"
      }
    },
    {
      "cell_type": "markdown",
      "source": [
        "- Accessing elements in a dictionary typically has a time complexity of O(1), which means it takes constant time regardless of the size of the dictionary. This efficiency is due to the underlying data structure used in dictionaries: hash tables.\n",
        "\n",
        "When you access an element using its key, the dictionary computes the hash of the key and uses it to locate the value in the table directly, avoiding the need to traverse the entire structure. However, this performance can degrade to O(n) in rare cases, such as when many keys hash to the same value (a collision), and the dictionary has to handle these collisions using techniques like chaining or open addressing.\n",
        "\n",
        "So, in practice, dictionary access is fast and reliable, with O(1) being the average-case complexity."
      ],
      "metadata": {
        "id": "efV3gvKkTxD9"
      }
    },
    {
      "cell_type": "markdown",
      "source": [
        "**18.  In what situations are lists preferred over dictionaries?**"
      ],
      "metadata": {
        "id": "VrMKJy_tUJtb"
      }
    },
    {
      "cell_type": "markdown",
      "source": [
        "- Lists and dictionaries are both fundamental data structures in programming, but they shine in different scenarios. Here's when you might prefer lists over dictionaries:\n",
        "\n",
        "**1. Ordered Data**: Lists maintain the order of elements, making them ideal when the sequence matters, such as storing a series of steps, event logs, or daily temperatures.\n",
        "\n",
        "**2. Simple Data Storage:** If you're working with a collection of similar items without a need for identifiers, like a list of numbers, names, or colors, lists are more appropriate.\n",
        "\n",
        "**3. Index-Based Access:** Lists allow you to access elements via their position (index). If your use case involves frequently accessing items by their position, lists are a better fit.\n",
        "\n",
        "**4. Memory Efficiency:** Lists are generally more memory-efficient for simpler data. If you only need to store values without corresponding keys, lists are preferable.\n",
        "\n",
        "**5. Iterative Processing**: If your task involves iterating over a collection and applying operations to all items without referencing specific identifiers, lists are ideal.\n",
        "\n",
        "However, dictionaries are preferred when you need key-value pairs, fast lookups, or when identifying elements by a unique key is necessary. The choice depends on your data structure needs and the specific operations you intend to perform."
      ],
      "metadata": {
        "id": "Mt6wJm8OVwMh"
      }
    },
    {
      "cell_type": "markdown",
      "source": [
        "**19.  Why are dictionaries considered unordered, and how does that affect data retrieval?**"
      ],
      "metadata": {
        "id": "J0mI4_PwXGeP"
      }
    },
    {
      "cell_type": "markdown",
      "source": [
        "- Dictionaries in Python (and similar data structures in other programming languages) are considered unordered because they do not store elements in a specific, predictable sequence like lists or arrays. Instead, they use a hashing mechanism to map keys to values, which enables fast data retrieval. Here's the breakdown:\n",
        "\n",
        "**Hash Tables**: Dictionaries use hash tables as their underlying data structure. When a key-value pair is added, the key is hashed to determine where the value will be stored in memory. This ensures efficient storage but does not maintain any inherent order.\n",
        "\n",
        "**Dynamic Storage**: As items are added or removed, the positions of elements can shift internally to optimize performance. This behavior makes the order unpredictable.\n",
        "\n",
        "**Effects on Data Retrieval**\n",
        "**1.Key-based Access**: Because dictionaries rely on hashing, you can access values directly by their key, which is extremely fast—usually O(1) time complexity.\n",
        "\n",
        "**2.No Sequential Access**: You can't rely on the insertion order (except in Python 3.7+ where dictionaries preserve insertion order as an implementation detail).\n",
        "\n",
        "**3.Iterating**: When iterating over a dictionary, keys (or values) will appear in no specific logical sequence unless explicitly sorted.\n",
        "\n",
        " In summary, while dictionaries being unordered may seem restrictive, their hash-based structure actually makes them highly efficient for tasks where data retrieval based on keys is needed."
      ],
      "metadata": {
        "id": "bb7pMw1sXTiO"
      }
    },
    {
      "cell_type": "markdown",
      "source": [
        "**20.Explain the difference between a list and a dictionary in terms of data retrieval.**"
      ],
      "metadata": {
        "id": "hZ-rUUFpZRKE"
      }
    },
    {
      "cell_type": "markdown",
      "source": [
        "- Lists and dictionaries are both data structures in Python, but they differ in how they store and retrieve data:\n",
        "\n",
        " 1. **Lists:**\n",
        "\n",
        "     - A list is an ordered collection of elements.\n",
        "\n",
        "     - Elements in a list are accessed using their index, which is an integer representing their position (starting from 0).\n",
        "\n",
        "     - Data retrieval requires knowledge of the exact index of the element you want.\n",
        "     \n",
        "      For example:\n",
        "\n",
        "      my_list = [10, 20, 30]\n",
        "\n",
        "      print(my_list[1])  # Output: 20\n",
        "\n",
        "  2. **Dictionaries**:\n",
        "        \n",
        "      - A dictionary is an unordered collection of key-value pairs.\n",
        "\n",
        "      - Data is accessed using a key rather than an index. Keys are unique and act as identifiers for the corresponding values.\n",
        "\n",
        "      - This makes dictionaries more efficient for retrieving data when the key is known.\n",
        "      \n",
        "       For example:\n",
        "\n",
        "       my_dict = {\"name\": \"Alice\", \"age\": 25}\n",
        "\n",
        "       print(my_dict[\"name\"])  # Output: Alice\n",
        "       \n",
        "       In summary, lists are best for ordered collections when you need to access elements by position, whereas dictionaries excel at associating keys with values, enabling quick lookups by key. Both have their own advantages depending on the use case!"
      ],
      "metadata": {
        "id": "Wo5VtGyyZna8"
      }
    },
    {
      "cell_type": "markdown",
      "source": [
        "**Practical Questions**"
      ],
      "metadata": {
        "id": "4XQeAl0gcKvN"
      }
    },
    {
      "cell_type": "markdown",
      "source": [
        "**1.  Write a code to create a string with your name and print it.**"
      ],
      "metadata": {
        "id": "mGlHFHzfcR-2"
      }
    },
    {
      "cell_type": "code",
      "source": [
        "# Create a string with my name\n",
        "my_name = \"Sarita\"\n",
        "\n",
        "# Print the string\n",
        "print(my_name)"
      ],
      "metadata": {
        "colab": {
          "base_uri": "https://localhost:8080/"
        },
        "id": "US00fxpGcl1q",
        "outputId": "3e627bd2-5ad6-48ce-94dc-9c53687b4cf3"
      },
      "execution_count": null,
      "outputs": [
        {
          "output_type": "stream",
          "name": "stdout",
          "text": [
            "Sarita\n"
          ]
        }
      ]
    },
    {
      "cell_type": "markdown",
      "source": [
        "**2. Write a code to find the length of the string \"Hello World\".**"
      ],
      "metadata": {
        "id": "9Sb0NZjDd26h"
      }
    },
    {
      "cell_type": "code",
      "source": [
        "string = \"hello world\"\n",
        "length = len(string)\n",
        "print(length)"
      ],
      "metadata": {
        "colab": {
          "base_uri": "https://localhost:8080/"
        },
        "id": "-WLkvUQreran",
        "outputId": "870dc4b7-640d-4710-c05f-099cfe0e8670"
      },
      "execution_count": null,
      "outputs": [
        {
          "output_type": "stream",
          "name": "stdout",
          "text": [
            "11\n"
          ]
        }
      ]
    },
    {
      "cell_type": "markdown",
      "source": [
        "**3.Write a code to slice the first 3 characters from the string \"Python Programming\".**"
      ],
      "metadata": {
        "id": "xJ9k0FeHfOKV"
      }
    },
    {
      "cell_type": "code",
      "source": [
        "# Original string\n",
        "original_string = \"python programming\"\n",
        "\n",
        "# Slicing the first 3 characters\n",
        "sliced_string = original_string[:3]\n",
        "\n",
        "# Printing the result\n",
        "print(sliced_string)"
      ],
      "metadata": {
        "colab": {
          "base_uri": "https://localhost:8080/"
        },
        "id": "2PRhCtMyf62A",
        "outputId": "342da3f3-f749-4932-a53f-89d193390111"
      },
      "execution_count": null,
      "outputs": [
        {
          "output_type": "stream",
          "name": "stdout",
          "text": [
            "pyt\n"
          ]
        }
      ]
    },
    {
      "cell_type": "markdown",
      "source": [
        "**4. Write a code to convert the string \"hello\" to uppercase.**"
      ],
      "metadata": {
        "id": "7V1m3-BdgHo9"
      }
    },
    {
      "cell_type": "code",
      "source": [
        "string = \"hello\"\n",
        "uppercase_string = string.upper()\n",
        "print(uppercase_string)"
      ],
      "metadata": {
        "colab": {
          "base_uri": "https://localhost:8080/"
        },
        "id": "fiwNQiJ3gTlX",
        "outputId": "355243a8-601a-4932-af22-3b8e9cde1eab"
      },
      "execution_count": null,
      "outputs": [
        {
          "output_type": "stream",
          "name": "stdout",
          "text": [
            "HELLO\n"
          ]
        }
      ]
    },
    {
      "cell_type": "markdown",
      "source": [
        "**5. Write a code to replace the word \"apple\" with \"orange\" in the string \"I like apple\".**"
      ],
      "metadata": {
        "id": "7bESvZAzgffS"
      }
    },
    {
      "cell_type": "code",
      "source": [
        "# Original string\n",
        "original_string = \"I like apple\"\n",
        "\n",
        "# Replace 'apple' with 'orange'\n",
        "modified_string = original_string.replace(\"apple\", \"orange\")\n",
        "\n",
        "# Print the modified string\n",
        "print(modified_string)"
      ],
      "metadata": {
        "colab": {
          "base_uri": "https://localhost:8080/"
        },
        "id": "YGLmknWpgljK",
        "outputId": "dda076a1-aee2-42b1-cd6c-47ebf37354c1"
      },
      "execution_count": null,
      "outputs": [
        {
          "output_type": "stream",
          "name": "stdout",
          "text": [
            "I like orange\n"
          ]
        }
      ]
    },
    {
      "cell_type": "markdown",
      "source": [
        "**6.  Write a code to create a list with numbers 1 to 5 and print it.**"
      ],
      "metadata": {
        "id": "5Y0PB71fS1Er"
      }
    },
    {
      "cell_type": "code",
      "source": [
        "# Creating a list with numbers from 1 to 5\n",
        "numbers = [1, 2, 3, 4, 5]\n",
        "\n",
        "# Printing the list\n",
        "print(numbers)"
      ],
      "metadata": {
        "colab": {
          "base_uri": "https://localhost:8080/"
        },
        "id": "1LBhZ2qvT8Ma",
        "outputId": "363822b0-4e0b-4286-cc2a-b2586bd19e7c"
      },
      "execution_count": null,
      "outputs": [
        {
          "output_type": "stream",
          "name": "stdout",
          "text": [
            "[1, 2, 3, 4, 5]\n"
          ]
        }
      ]
    },
    {
      "cell_type": "markdown",
      "source": [
        "**7. Write a code to append the number 10 to the list [1, 2, 3, 4].**"
      ],
      "metadata": {
        "id": "q-KRB3stUdkE"
      }
    },
    {
      "cell_type": "code",
      "source": [
        "# Original list\n",
        "my_list = [1, 2, 3, 4]\n",
        "\n",
        "# Append the number 10\n",
        "my_list.append(10)\n",
        "\n",
        "# Print the updated list\n",
        "print(my_list)"
      ],
      "metadata": {
        "colab": {
          "base_uri": "https://localhost:8080/"
        },
        "id": "mxQkEQndUnf7",
        "outputId": "3af46b99-a195-47b7-e092-53cbf4fb17c7"
      },
      "execution_count": null,
      "outputs": [
        {
          "output_type": "stream",
          "name": "stdout",
          "text": [
            "[1, 2, 3, 4, 10]\n"
          ]
        }
      ]
    },
    {
      "cell_type": "markdown",
      "source": [
        "**8.Write a code to remove the number 3 from the list [1, 2, 3, 4, 5]**"
      ],
      "metadata": {
        "id": "YyPPDo8lVikz"
      }
    },
    {
      "cell_type": "code",
      "source": [
        "# Initial list\n",
        "numbers = [1, 2, 3, 4, 5]\n",
        "\n",
        "# Remove the number 3\n",
        "numbers.remove(3)\n",
        "\n",
        "# Print the updated list\n",
        "print(numbers)"
      ],
      "metadata": {
        "colab": {
          "base_uri": "https://localhost:8080/"
        },
        "id": "YKd1IVzpVsHM",
        "outputId": "6b9083f8-9ad8-4fc9-a8b9-0d8a586ba813"
      },
      "execution_count": null,
      "outputs": [
        {
          "output_type": "stream",
          "name": "stdout",
          "text": [
            "[1, 2, 4, 5]\n"
          ]
        }
      ]
    },
    {
      "cell_type": "markdown",
      "source": [
        "**9. Write a code to access the second element in the list ['a', 'b', 'c', 'd']**"
      ],
      "metadata": {
        "id": "yWN_RiIBV5Fm"
      }
    },
    {
      "cell_type": "code",
      "source": [
        "my_list = ['a', 'b', 'c', 'd']\n",
        "second_element = my_list[1]  # Index starts at 0, so 1 refers to the second element\n",
        "print(second_element)"
      ],
      "metadata": {
        "colab": {
          "base_uri": "https://localhost:8080/"
        },
        "id": "to7nvM0CWOqr",
        "outputId": "247485fa-992c-4f4c-beb3-865cb64414c0"
      },
      "execution_count": null,
      "outputs": [
        {
          "output_type": "stream",
          "name": "stdout",
          "text": [
            "b\n"
          ]
        }
      ]
    },
    {
      "cell_type": "markdown",
      "source": [
        "**10. Write a code to reverse the list [10, 20, 30, 40, 50].**"
      ],
      "metadata": {
        "id": "TYSjDyJBWUpS"
      }
    },
    {
      "cell_type": "code",
      "source": [
        "# Original list\n",
        "original_list = [10, 20, 30, 40, 50]\n",
        "\n",
        "# Reversing the list\n",
        "reversed_list = original_list[::-1]\n",
        "\n",
        "# Print the reversed list\n",
        "print(\"Reversed List:\", reversed_list)"
      ],
      "metadata": {
        "colab": {
          "base_uri": "https://localhost:8080/"
        },
        "id": "Wd3v9goDWXvM",
        "outputId": "f411fa04-fb9f-41a3-ce83-f467bd53c372"
      },
      "execution_count": null,
      "outputs": [
        {
          "output_type": "stream",
          "name": "stdout",
          "text": [
            "Reversed List: [50, 40, 30, 20, 10]\n"
          ]
        }
      ]
    },
    {
      "cell_type": "markdown",
      "source": [
        "**11. Write a code to create a tuple with the elements 100, 200, 300 and print it.**"
      ],
      "metadata": {
        "id": "y6CnYSSIWkwU"
      }
    },
    {
      "cell_type": "code",
      "source": [
        "# Create a tuple\n",
        "my_tuple = (100, 200, 300)\n",
        "\n",
        "# Print the tuple\n",
        "print(my_tuple)"
      ],
      "metadata": {
        "colab": {
          "base_uri": "https://localhost:8080/"
        },
        "id": "cDTk-jRwWtPs",
        "outputId": "d7f9dc45-bf81-4a3f-eee9-a4c9af0831dc"
      },
      "execution_count": null,
      "outputs": [
        {
          "output_type": "stream",
          "name": "stdout",
          "text": [
            "(100, 200, 300)\n"
          ]
        }
      ]
    },
    {
      "cell_type": "markdown",
      "source": [
        "**12. Write a code to access the second-to-last element of the tuple ('red', 'green', 'blue', 'yellow').**"
      ],
      "metadata": {
        "id": "Z9cBvnsdW-As"
      }
    },
    {
      "cell_type": "code",
      "source": [
        "# Define the tuple\n",
        "colors = ('red', 'green', 'blue', 'yellow')\n",
        "\n",
        "# Access the second to last element\n",
        "second_to_last_element = colors[-2]\n",
        "\n",
        "# Print the result\n",
        "print(second_to_last_element)"
      ],
      "metadata": {
        "colab": {
          "base_uri": "https://localhost:8080/"
        },
        "id": "nodpIX5-XuNM",
        "outputId": "d59771bd-ce14-4e33-9fd5-88ea001715a0"
      },
      "execution_count": null,
      "outputs": [
        {
          "output_type": "stream",
          "name": "stdout",
          "text": [
            "blue\n"
          ]
        }
      ]
    },
    {
      "cell_type": "markdown",
      "source": [
        "**13. Write a code to find the minimum number in the tuple (10, 20, 5, 15).**"
      ],
      "metadata": {
        "id": "G3Dk5yDUX1Ez"
      }
    },
    {
      "cell_type": "code",
      "source": [
        "# Define the tuple\n",
        "numbers = (10, 20, 5, 15)\n",
        "\n",
        "# Find the minimum number\n",
        "min_number = min(numbers)\n",
        "\n",
        "# Print the result\n",
        "print(\"The minimum number in the tuple is:\", min_number)"
      ],
      "metadata": {
        "colab": {
          "base_uri": "https://localhost:8080/"
        },
        "id": "5iFDZ-N7X3Al",
        "outputId": "84bb70b6-fef5-47a4-8cbb-1c3c3f5290cb"
      },
      "execution_count": null,
      "outputs": [
        {
          "output_type": "stream",
          "name": "stdout",
          "text": [
            "The minimum number in the tuple is: 5\n"
          ]
        }
      ]
    },
    {
      "cell_type": "markdown",
      "source": [
        "**14. Write a code to find the index of the element \"cat\" in the tuple ('dog', 'cat', 'rabbit').**"
      ],
      "metadata": {
        "id": "9PM11nT0YY6R"
      }
    },
    {
      "cell_type": "code",
      "source": [
        "# Define the tuple\n",
        "animals = (\"dog\", \"cat\", \"rabbit\")\n",
        "\n",
        "# Find the index of the element \"cat\"\n",
        "index_of_cat = animals.index(\"cat\")\n",
        "\n",
        "# Print the index\n",
        "print(f\"The index of 'cat' is: {index_of_cat}\")"
      ],
      "metadata": {
        "colab": {
          "base_uri": "https://localhost:8080/"
        },
        "id": "C5F6K0f3YiH0",
        "outputId": "3c9d804e-5c48-4393-f7f4-db7192b391b0"
      },
      "execution_count": null,
      "outputs": [
        {
          "output_type": "stream",
          "name": "stdout",
          "text": [
            "The index of 'cat' is: 1\n"
          ]
        }
      ]
    },
    {
      "cell_type": "markdown",
      "source": [
        "**15. Write a code to create a tuple containing three different fruits and check if \"kiwi\" is in it.**"
      ],
      "metadata": {
        "id": "7UZ9c4iNaGvz"
      }
    },
    {
      "cell_type": "code",
      "source": [
        "# Creating a tuple with three different fruits\n",
        "fruits = (\"apple\", \"banana\", \"cherry\")\n",
        "\n",
        "# Checking if 'kiwi' is in the tuple\n",
        "if \"kiwi\" in fruits:\n",
        "    print(\"Kiwi is in the tuple.\")\n",
        "else:\n",
        "    print(\"Kiwi is not in the tuple.\")"
      ],
      "metadata": {
        "colab": {
          "base_uri": "https://localhost:8080/"
        },
        "id": "F1zLEOjLagr3",
        "outputId": "6287a6a6-5fe0-418a-fd44-fa020173fb85"
      },
      "execution_count": null,
      "outputs": [
        {
          "output_type": "stream",
          "name": "stdout",
          "text": [
            "Kiwi is not in the tuple.\n"
          ]
        }
      ]
    },
    {
      "cell_type": "markdown",
      "source": [
        "**16. Write a code to create a set with the elements 'a', 'b', 'c' and print it.**"
      ],
      "metadata": {
        "id": "Cv2fSZaablC0"
      }
    },
    {
      "cell_type": "code",
      "source": [
        "# Creating a set with elements 'a', 'b', and 'c'\n",
        "my_set = {'a', 'b', 'c'}\n",
        "\n",
        "# Printing the set\n",
        "print(my_set)"
      ],
      "metadata": {
        "colab": {
          "base_uri": "https://localhost:8080/"
        },
        "id": "6EDgKOGKbrVt",
        "outputId": "5ee7d718-2408-4320-bafa-1100633b8e02"
      },
      "execution_count": null,
      "outputs": [
        {
          "output_type": "stream",
          "name": "stdout",
          "text": [
            "{'b', 'c', 'a'}\n"
          ]
        }
      ]
    },
    {
      "cell_type": "markdown",
      "source": [
        "**17. Write a code to clear all elements from the set {1, 2, 3, 4, 5}.**"
      ],
      "metadata": {
        "id": "u14Y3faldG9T"
      }
    },
    {
      "cell_type": "code",
      "source": [
        "my_set = {1, 2, 3, 4, 5}\n",
        "my_set = set()\n",
        "print(my_set)  # Output: set()"
      ],
      "metadata": {
        "colab": {
          "base_uri": "https://localhost:8080/"
        },
        "id": "3hR19mmKdZMY",
        "outputId": "2ac6d291-4bf5-4523-d1b4-fdd40c1b6922"
      },
      "execution_count": null,
      "outputs": [
        {
          "output_type": "stream",
          "name": "stdout",
          "text": [
            "set()\n"
          ]
        }
      ]
    },
    {
      "cell_type": "markdown",
      "source": [
        "**18. Write a code to remove the element 4 from the set {1, 2, 3, 4}.**"
      ],
      "metadata": {
        "id": "vOS18hO9dfpu"
      }
    },
    {
      "cell_type": "code",
      "source": [
        "# Define the set\n",
        "my_set = {1, 2, 3, 4}\n",
        "\n",
        "# Remove the element 4\n",
        "my_set.discard(4)\n",
        "\n",
        "# Print the updated set\n",
        "print(my_set)"
      ],
      "metadata": {
        "colab": {
          "base_uri": "https://localhost:8080/"
        },
        "id": "vZ6MlcDMdyqL",
        "outputId": "674b1efc-5993-4cec-e6f6-7fcbcba4af2e"
      },
      "execution_count": null,
      "outputs": [
        {
          "output_type": "stream",
          "name": "stdout",
          "text": [
            "{1, 2, 3}\n"
          ]
        }
      ]
    },
    {
      "cell_type": "markdown",
      "source": [
        "**19. Write a code to find the union of two sets {1, 2, 3} and {3, 4, 5}.**"
      ],
      "metadata": {
        "id": "hlNeAl8Yd3cd"
      }
    },
    {
      "cell_type": "code",
      "source": [
        "# Define the sets\n",
        "set1 = {1, 2, 3}\n",
        "set2 = {3, 4, 5}\n",
        "\n",
        "# Find the union of the sets\n",
        "union_set = set1.union(set2)\n",
        "\n",
        "# Print the result\n",
        "print(\"Union of set1 and set2:\", union_set)"
      ],
      "metadata": {
        "colab": {
          "base_uri": "https://localhost:8080/"
        },
        "id": "sJmsjjoqePRQ",
        "outputId": "cdcfd13f-a448-4648-e178-b9a2690520be"
      },
      "execution_count": null,
      "outputs": [
        {
          "output_type": "stream",
          "name": "stdout",
          "text": [
            "Union of set1 and set2: {1, 2, 3, 4, 5}\n"
          ]
        }
      ]
    },
    {
      "cell_type": "markdown",
      "source": [
        "**20. Write a code to find the intersection of two sets {1, 2, 3} and {2, 3, 4}.**"
      ],
      "metadata": {
        "id": "k9VZ9dukeeDd"
      }
    },
    {
      "cell_type": "code",
      "source": [
        "# Define the sets\n",
        "set1 = {1, 2, 3}\n",
        "set2 = {2, 3, 4}\n",
        "\n",
        "# Find the intersection\n",
        "intersection = set1 & set2\n",
        "\n",
        "# Print the result\n",
        "print(\"The intersection of the sets is:\", intersection)"
      ],
      "metadata": {
        "colab": {
          "base_uri": "https://localhost:8080/"
        },
        "id": "aVBgMVByes8K",
        "outputId": "971b0d5a-1edf-4951-8af9-0c764afe6e37"
      },
      "execution_count": null,
      "outputs": [
        {
          "output_type": "stream",
          "name": "stdout",
          "text": [
            "The intersection of the sets is: {2, 3}\n"
          ]
        }
      ]
    },
    {
      "cell_type": "markdown",
      "source": [
        "**21. Write a code to create a dictionary with the keys \"name\", \"age\", and \"city\", and print it.**"
      ],
      "metadata": {
        "id": "hS3W8bsPevqF"
      }
    },
    {
      "cell_type": "code",
      "source": [
        "# Creating the dictionary\n",
        "person_info = {\n",
        "    \"name\": \"Tejaswini\",\n",
        "    \"age\": 20,\n",
        "    \"city\": \"Mangalore\"\n",
        "}\n",
        "\n",
        "# Printing the dictionary\n",
        "print(person_info)"
      ],
      "metadata": {
        "colab": {
          "base_uri": "https://localhost:8080/"
        },
        "id": "sBrgUF9je8rh",
        "outputId": "b9ba5674-868a-4d4e-f0be-6fb92bed88c0"
      },
      "execution_count": null,
      "outputs": [
        {
          "output_type": "stream",
          "name": "stdout",
          "text": [
            "{'name': 'Tejaswini', 'age': 20, 'city': 'Mangalore'}\n"
          ]
        }
      ]
    },
    {
      "cell_type": "markdown",
      "source": [
        "**22. Write a code to add a new key-value pair \"country\": \"USA\" to the dictionary {'name': 'John', 'age': 25}.**"
      ],
      "metadata": {
        "id": "NiL8cJYXfNq6"
      }
    },
    {
      "cell_type": "code",
      "source": [
        "# Existing dictionary\n",
        "person = {\n",
        "    \"name\": \"John\",\n",
        "    \"age\": 25\n",
        "}\n",
        "\n",
        "# Adding a new key-value pair\n",
        "person[\"country\"] = \"USA\"\n",
        "\n",
        "# Printing the updated dictionary\n",
        "print(person)"
      ],
      "metadata": {
        "colab": {
          "base_uri": "https://localhost:8080/"
        },
        "id": "OiYZIrW6fUfI",
        "outputId": "ede929aa-6ae5-4269-ee96-b5f21a1680b6"
      },
      "execution_count": null,
      "outputs": [
        {
          "output_type": "stream",
          "name": "stdout",
          "text": [
            "{'name': 'John', 'age': 25, 'country': 'USA'}\n"
          ]
        }
      ]
    },
    {
      "cell_type": "markdown",
      "source": [
        "**23. Write a code to access the value associated with the key \"name\" in the dictionary {'name': 'Alice', 'age': 30}.**"
      ],
      "metadata": {
        "id": "7KpKbGPzfo1k"
      }
    },
    {
      "cell_type": "code",
      "source": [
        "# Define the dictionary\n",
        "person = {\n",
        "    \"name\": \"Alice\",\n",
        "    \"age\": 30\n",
        "}\n",
        "\n",
        "# Access the value associated with the key 'name'\n",
        "name_value = person[\"name\"]\n",
        "\n",
        "# Print the value\n",
        "print(name_value)"
      ],
      "metadata": {
        "colab": {
          "base_uri": "https://localhost:8080/"
        },
        "id": "nt0uBESsf19D",
        "outputId": "76dc1f1a-b9c3-4f5a-ba1a-41bc1d1ab21a"
      },
      "execution_count": null,
      "outputs": [
        {
          "output_type": "stream",
          "name": "stdout",
          "text": [
            "Alice\n"
          ]
        }
      ]
    },
    {
      "cell_type": "markdown",
      "source": [
        "**24.Write a code to remove the key \"age\" from the dictionary {'name': 'Bob', 'age': 22, 'city': 'New York'},**"
      ],
      "metadata": {
        "id": "5eTy6wS-f6m1"
      }
    },
    {
      "cell_type": "code",
      "source": [
        "# Initial dictionary\n",
        "bob = {\n",
        "    \"name\": \"bob\",\n",
        "    \"age\": 22,\n",
        "    \"city\": \"new york\"\n",
        "}\n",
        "\n",
        "# Remove the key 'age'\n",
        "if 'age' in bob:\n",
        "    del bob['age']\n",
        "\n",
        "# Print the updated dictionary\n",
        "print(bob)"
      ],
      "metadata": {
        "colab": {
          "base_uri": "https://localhost:8080/"
        },
        "id": "TpznydxEgKDj",
        "outputId": "29708a71-72ca-4273-b7e2-cd8d08b3118c"
      },
      "execution_count": null,
      "outputs": [
        {
          "output_type": "stream",
          "name": "stdout",
          "text": [
            "{'name': 'bob', 'city': 'new york'}\n"
          ]
        }
      ]
    },
    {
      "cell_type": "markdown",
      "source": [
        "**25. Write a code to check if the key \"city\" exists in the dictionary {'name': 'Alice', 'city': 'Paris'}.**"
      ],
      "metadata": {
        "id": "6x-3vlXmgND-"
      }
    },
    {
      "cell_type": "code",
      "source": [
        "# Define the dictionary\n",
        "alice_city_paris = {\n",
        "    \"name\": \"Alice\",\n",
        "    \"city\": \"Paris\"\n",
        "}\n",
        "\n",
        "# Check if the key 'city' exists in the dictionary\n",
        "if \"city\" in alice_city_paris:\n",
        "    print(\"The key 'city' exists in the dictionary.\")\n",
        "else:\n",
        "    print(\"The key 'city' does not exist in the dictionary.\")"
      ],
      "metadata": {
        "colab": {
          "base_uri": "https://localhost:8080/"
        },
        "id": "5JmjpKHugVIT",
        "outputId": "bae8c35f-e988-4889-be4c-f7137e13321c"
      },
      "execution_count": null,
      "outputs": [
        {
          "output_type": "stream",
          "name": "stdout",
          "text": [
            "The key 'city' exists in the dictionary.\n"
          ]
        }
      ]
    },
    {
      "cell_type": "markdown",
      "source": [
        "**26. Write a code to create a list, a tuple, and a dictionary, and print them all.**"
      ],
      "metadata": {
        "id": "s4u35ks9gj4N"
      }
    },
    {
      "cell_type": "code",
      "source": [
        "# Creating a list\n",
        "my_list = [1, 2, 3, 4, 5]\n",
        "\n",
        "# Creating a tuple\n",
        "my_tuple = (10, 20, 30, 40, 50)\n",
        "\n",
        "# Creating a dictionary\n",
        "my_dict = {\n",
        "    'name': 'Alice',\n",
        "    'age': 30,\n",
        "    'city': 'Wonderland'\n",
        "}\n",
        "\n",
        "# Printing the list\n",
        "print(\"List:\", my_list)\n",
        "\n",
        "# Printing the tuple\n",
        "print(\"Tuple:\", my_tuple)\n",
        "\n",
        "# Printing the dictionary\n",
        "print(\"Dictionary:\", my_dict)"
      ],
      "metadata": {
        "colab": {
          "base_uri": "https://localhost:8080/"
        },
        "id": "NfnsOW-FgXQr",
        "outputId": "cf64d6b7-802f-4db5-9dbc-be55bcd748bf"
      },
      "execution_count": null,
      "outputs": [
        {
          "output_type": "stream",
          "name": "stdout",
          "text": [
            "List: [1, 2, 3, 4, 5]\n",
            "Tuple: (10, 20, 30, 40, 50)\n",
            "Dictionary: {'name': 'Alice', 'age': 30, 'city': 'Wonderland'}\n"
          ]
        }
      ]
    },
    {
      "cell_type": "markdown",
      "source": [
        "**27. Write a code to create a list of 5 random numbers between 1 and 100, sort it in ascending order, and print the  result.(replaced)**"
      ],
      "metadata": {
        "id": "5yOC1ApngtQa"
      }
    },
    {
      "cell_type": "code",
      "source": [
        "import random\n",
        "\n",
        "# Generate a list of 5 random numbers between 1 and 100\n",
        "random_numbers = [random.randint(1, 100) for _ in range(5)]\n",
        "\n",
        "# Sort the list in ascending order\n",
        "sorted_numbers = sorted(random_numbers)\n",
        "\n",
        "# Print the sorted list\n",
        "print(\"Sorted list of random numbers:\", sorted_numbers)"
      ],
      "metadata": {
        "colab": {
          "base_uri": "https://localhost:8080/"
        },
        "id": "3xlp7QKyg--l",
        "outputId": "bf97b9fc-4356-4d3d-900a-2bf27eb72a79"
      },
      "execution_count": null,
      "outputs": [
        {
          "output_type": "stream",
          "name": "stdout",
          "text": [
            "Sorted list of random numbers: [24, 33, 33, 64, 88]\n"
          ]
        }
      ]
    },
    {
      "cell_type": "markdown",
      "source": [
        "**28. Write a code to create a list with strings and print the element at the third index.**"
      ],
      "metadata": {
        "id": "C9FFHN9mhCh4"
      }
    },
    {
      "cell_type": "code",
      "source": [
        "# Creating a list with strings\n",
        "my_list = [\"apple\", \"banana\", \"cherry\", \"date\", \"elderberry\"]\n",
        "\n",
        "# Printing the element at the third index\n",
        "print(my_list[3])"
      ],
      "metadata": {
        "colab": {
          "base_uri": "https://localhost:8080/"
        },
        "id": "-FMe-6uChHac",
        "outputId": "e53d108d-3e37-420d-ddab-eaba6b9b9799"
      },
      "execution_count": null,
      "outputs": [
        {
          "output_type": "stream",
          "name": "stdout",
          "text": [
            "date\n"
          ]
        }
      ]
    },
    {
      "cell_type": "markdown",
      "source": [
        "**29.Write a code to combine two dictionaries into one and print the result.**"
      ],
      "metadata": {
        "id": "B30o2jsJhH12"
      }
    },
    {
      "cell_type": "code",
      "source": [
        "# Define the first dictionary\n",
        "dict1 = {'a': 1, 'b': 2, 'c': 3}\n",
        "\n",
        "# Define the second dictionary\n",
        "dict2 = {'d': 4, 'e': 5, 'f': 6}\n",
        "\n",
        "# Combine the dictionaries\n",
        "combined_dict = {**dict1, **dict2}\n",
        "\n",
        "# Print the result\n",
        "print(\"Combined Dictionary:\", combined_dict)\n"
      ],
      "metadata": {
        "colab": {
          "base_uri": "https://localhost:8080/"
        },
        "id": "NZalocknhOWn",
        "outputId": "5963329d-5ead-4d06-e91d-daaa41e99941"
      },
      "execution_count": null,
      "outputs": [
        {
          "output_type": "stream",
          "name": "stdout",
          "text": [
            "Combined Dictionary: {'a': 1, 'b': 2, 'c': 3, 'd': 4, 'e': 5, 'f': 6}\n"
          ]
        }
      ]
    },
    {
      "cell_type": "markdown",
      "source": [
        "**30. Write a code to convert a list of strings into a set.**"
      ],
      "metadata": {
        "id": "Gpe75pxWhO0_"
      }
    },
    {
      "cell_type": "code",
      "source": [
        "# List of strings\n",
        "string_list = [\"apple\", \"banana\", \"cherry\", \"apple\", \"banana\"]\n",
        "\n",
        "# Convert list to set\n",
        "string_set = set(string_list)\n",
        "\n",
        "print(string_set)"
      ],
      "metadata": {
        "colab": {
          "base_uri": "https://localhost:8080/"
        },
        "id": "j5ONDJxYhUkC",
        "outputId": "168e95da-929d-41ab-8e48-a97158423957"
      },
      "execution_count": null,
      "outputs": [
        {
          "output_type": "stream",
          "name": "stdout",
          "text": [
            "{'banana', 'apple', 'cherry'}\n"
          ]
        }
      ]
    }
  ]
}